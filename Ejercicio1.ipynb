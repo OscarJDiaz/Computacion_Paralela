{
 "cells": [
  {
   "cell_type": "code",
   "execution_count": 4,
   "metadata": {},
   "outputs": [],
   "source": [
    "import numpy as np\n",
    "import math\n",
    "import matplotlib.pyplot as plt"
   ]
  },
  {
   "cell_type": "markdown",
   "metadata": {},
   "source": [
    "log(Performance) = a+b*año\n",
    "\n",
    "Encontrar el ritmo de aumento anual de\n",
    "prestaciones (P/P’) del mejor\n",
    "supercomputador utilizando los valores\n",
    "del rango \n",
    "– 1993-2020\n",
    "– 1993-2012\n",
    "– 2012-2021\n",
    "\n",
    "Predecir cuándo se va a cruzar el valor\n",
    "de P=1 exaflop por parte del Top1\n",
    "\n",
    "Predecir cuándo se cruzó el valor de\n",
    "P=1 exaflop por parte de la suma de\n",
    "todos los supercomputadores Top500 y\n",
    "compararlo con el momento en el que\n",
    "se produjo.\n",
    "\n",
    "Predecir cuándo se va a cruzar el valor\n",
    "de P=1 exaflop por parte del Top500."
   ]
  },
  {
   "cell_type": "code",
   "execution_count": 33,
   "metadata": {},
   "outputs": [],
   "source": [
    "def Recta(mes1, año1, mes2, año2,flops1,flops2):\n",
    "    a = math.log10(flops1)\n",
    "    b = (math.log10(flops2) - a)/((año2-año1)+((mes2-mes1+1)/12))\n",
    "    print(\"Para el periodo de\",año1,\"a\",año2,\":\")\n",
    "    print(\"La funcion es: y =\",a,\"+\",b,\"* año\")\n",
    "    \n",
    "    Aumento = pow(10,b);\n",
    "    print(\"El ritmo de aumento anual de prestaciones es: \",Aumento)\n",
    "    \n",
    "    añoEflop = ((math.log10(pow(2,60))-a)/b)+año1;\n",
    "    print(\"El año que se llegara al exoflop es: \",añoEflop)\n",
    "    print(\"----------\")\n",
    "        \n",
    "    return"
   ]
  },
  {
   "cell_type": "code",
   "execution_count": 34,
   "metadata": {
    "scrolled": true
   },
   "outputs": [
    {
     "name": "stdout",
     "output_type": "stream",
     "text": [
      "Para el periodo de 1993 a 2014 :\n",
      "La funcion es: y = 12.109385688305409 + 0.2526545383403947 * año\n",
      "El ritmo de aumento anual de prestaciones es:  1.7891820742440914\n",
      "El año que se llegara al exoflop es:  2016.559497844895\n",
      "----------\n"
     ]
    }
   ],
   "source": [
    "Recta(6,1993, 11,2014, 1.17*pow(2,40), 309*pow(2,50))"
   ]
  },
  {
   "cell_type": "markdown",
   "metadata": {},
   "source": [
    "1993-2021 Top1 //\n",
    "1993-2012 Top1 //\n",
    "2012-2021 Top1 //"
   ]
  },
  {
   "cell_type": "code",
   "execution_count": 35,
   "metadata": {},
   "outputs": [
    {
     "name": "stdout",
     "output_type": "stream",
     "text": [
      "Para el periodo de 1993 a 2021 :\n",
      "La funcion es: y = 10.806874201048805 + 0.2417560649648894 * año\n",
      "El ritmo de aumento anual de prestaciones es:  1.7448418328208755\n",
      "El año que se llegara al exoflop es:  2023.0092803870039\n",
      "----------\n",
      "Para el periodo de 1993 a 2012 :\n",
      "La funcion es: y = 10.806874201048805 + 0.2815455512802259 * año\n",
      "El ritmo de aumento anual de prestaciones es:  1.9122538821712824\n",
      "El año que se llegara al exoflop es:  2018.7682123045488\n",
      "----------\n",
      "Para el periodo de 2012 a 2021 :\n",
      "La funcion es: y = 16.263687387603017 + 0.1508668068363301 * año\n",
      "El ritmo de aumento anual de prestaciones es:  1.4153596387309928\n",
      "El año que se llegara al exoflop es:  2023.9185418578293\n",
      "----------\n"
     ]
    }
   ],
   "source": [
    "Recta(6,1993, 11,2021, 59.7*pow(2,30), 442*pow(2,50))\n",
    "Recta(6,1993, 11,2012, 59.7*pow(2,30), 17.6*pow(2,50))\n",
    "Recta(6,2012, 11,2021, 16.3*pow(2,50), 442*pow(2,50))"
   ]
  },
  {
   "cell_type": "markdown",
   "metadata": {},
   "source": [
    "1993-2021 Top500 //\n",
    "1993-2012 Top500 //\n",
    "2012-2021 Top500 //"
   ]
  },
  {
   "cell_type": "code",
   "execution_count": 31,
   "metadata": {},
   "outputs": [
    {
     "name": "stdout",
     "output_type": "stream",
     "text": [
      "La funcion es: y = 8.632959861247398 + 0.23237403174061705 * año\n",
      "El ritmo de aumento anual de prestaciones es:  1.7075523681582068\n",
      "El año que se llegara al exoflop es:  2033.5761341229222\n",
      "----------\n",
      "La funcion es: y = 8.632959861247398 + 0.2713504268660276 * año\n",
      "El ritmo de aumento anual de prestaciones es:  1.8678862573427226\n",
      "El año que se llegara al exoflop es:  2027.7478350688084\n",
      "----------\n",
      "La funcion es: y = 13.825103405831983 + 0.15058066947610532 * año\n",
      "El ritmo de aumento anual de prestaciones es:  1.4144274282082006\n",
      "El año que se llegara al exoflop es:  2040.1357251813731\n",
      "----------\n"
     ]
    }
   ],
   "source": [
    "Recta(6,1993, 11,2021, 0.4*pow(2,30), 1.6*pow(2,50))\n",
    "Recta(6,1993, 11,2012, 0.4*pow(2,30), 76.4*pow(2,40))\n",
    "Recta(6,2012, 11,2021, 60.8*pow(2,40), 1.6*pow(2,50))"
   ]
  },
  {
   "cell_type": "markdown",
   "metadata": {},
   "source": [
    "1993-2021 Sum //\n",
    "1993-2012 Sum //\n",
    "2012-2021 Sum //"
   ]
  },
  {
   "cell_type": "code",
   "execution_count": 32,
   "metadata": {},
   "outputs": [
    {
     "name": "stdout",
     "output_type": "stream",
     "text": [
      "La funcion es: y = 12.082592511717474 + 0.22653784150319511 * año\n",
      "El ritmo de aumento anual de prestaciones es:  1.6847592189774179\n",
      "El año que se llegara al exoflop es:  2019.3938562689848\n",
      "----------\n",
      "La funcion es: y = 12.082592511717474 + 0.26557386083744106 * año\n",
      "El ritmo de aumento anual de prestaciones es:  1.8432059379405392\n",
      "El año que se llegara al exoflop es:  2015.5142911627936\n",
      "----------\n",
      "La funcion es: y = 17.142814942896283 + 0.14695853175392115 * año\n",
      "El ritmo de aumento anual de prestaciones es:  1.4026797644610527\n",
      "El año que se llegara al exoflop es:  2018.2533613120293\n",
      "----------\n"
     ]
    }
   ],
   "source": [
    "Recta(6,1993, 11,2021, 1.1*pow(2,40), 3*pow(2,60))\n",
    "Recta(6,1993, 11,2012, 1.1*pow(2,40), 162.1*pow(2,50))\n",
    "Recta(6,2012, 11,2021, 123.4*pow(2,50), 3*pow(2,60))"
   ]
  },
  {
   "cell_type": "code",
   "execution_count": null,
   "metadata": {},
   "outputs": [],
   "source": []
  },
  {
   "cell_type": "code",
   "execution_count": null,
   "metadata": {},
   "outputs": [],
   "source": []
  }
 ],
 "metadata": {
  "kernelspec": {
   "display_name": "entornoGPU",
   "language": "python",
   "name": "entornogpu"
  },
  "language_info": {
   "codemirror_mode": {
    "name": "ipython",
    "version": 3
   },
   "file_extension": ".py",
   "mimetype": "text/x-python",
   "name": "python",
   "nbconvert_exporter": "python",
   "pygments_lexer": "ipython3",
   "version": "3.7.7"
  }
 },
 "nbformat": 4,
 "nbformat_minor": 4
}
